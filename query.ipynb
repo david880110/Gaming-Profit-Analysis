{
 "cells": [
  {
   "cell_type": "code",
   "execution_count": 1,
   "metadata": {
    "collapsed": true
   },
   "outputs": [],
   "source": [
    "# Import dependencies\n",
    "import sqlite3\n",
    "import pandas as pd"
   ]
  },
  {
   "cell_type": "code",
   "execution_count": 2,
   "metadata": {
    "collapsed": true
   },
   "outputs": [],
   "source": [
    "# Connect to database\n",
    "conn = sqlite3.connect('database.sqlite')"
   ]
  },
  {
   "cell_type": "markdown",
   "metadata": {},
   "source": [
    "# Player Count"
   ]
  },
  {
   "cell_type": "code",
   "execution_count": 10,
   "metadata": {},
   "outputs": [
    {
     "data": {
      "text/html": [
       "<div>\n",
       "<style>\n",
       "    .dataframe thead tr:only-child th {\n",
       "        text-align: right;\n",
       "    }\n",
       "\n",
       "    .dataframe thead th {\n",
       "        text-align: left;\n",
       "    }\n",
       "\n",
       "    .dataframe tbody tr th {\n",
       "        vertical-align: top;\n",
       "    }\n",
       "</style>\n",
       "<table border=\"1\" class=\"dataframe\">\n",
       "  <thead>\n",
       "    <tr style=\"text-align: right;\">\n",
       "      <th></th>\n",
       "      <th>Total Players</th>\n",
       "    </tr>\n",
       "  </thead>\n",
       "  <tbody>\n",
       "    <tr>\n",
       "      <th>0</th>\n",
       "      <td>858</td>\n",
       "    </tr>\n",
       "  </tbody>\n",
       "</table>\n",
       "</div>"
      ],
      "text/plain": [
       "   Total Players\n",
       "0            858"
      ]
     },
     "execution_count": 10,
     "metadata": {},
     "output_type": "execute_result"
    }
   ],
   "source": [
    "# Read sqlite query results into a pandas DataFrame# Read  \n",
    "player_count = pd.read_sql_query(\"\"\"\n",
    "\n",
    "SELECT \n",
    "\n",
    "COUNT(age) as 'Total Players'\n",
    "\n",
    "FROM purchase_table\n",
    "\n",
    ";\n",
    "\n",
    "\"\"\",conn)\n",
    "\n",
    "player_count.head()"
   ]
  },
  {
   "cell_type": "markdown",
   "metadata": {},
   "source": [
    "# Purchasing Analysis (Total)"
   ]
  },
  {
   "cell_type": "code",
   "execution_count": 9,
   "metadata": {},
   "outputs": [
    {
     "data": {
      "text/html": [
       "<div>\n",
       "<style>\n",
       "    .dataframe thead tr:only-child th {\n",
       "        text-align: right;\n",
       "    }\n",
       "\n",
       "    .dataframe thead th {\n",
       "        text-align: left;\n",
       "    }\n",
       "\n",
       "    .dataframe tbody tr th {\n",
       "        vertical-align: top;\n",
       "    }\n",
       "</style>\n",
       "<table border=\"1\" class=\"dataframe\">\n",
       "  <thead>\n",
       "    <tr style=\"text-align: right;\">\n",
       "      <th></th>\n",
       "      <th>Number of Unique Items</th>\n",
       "      <th>Average Price</th>\n",
       "      <th>Number of Purchases</th>\n",
       "      <th>Total Revenue</th>\n",
       "    </tr>\n",
       "  </thead>\n",
       "  <tbody>\n",
       "    <tr>\n",
       "      <th>0</th>\n",
       "      <td>134</td>\n",
       "      <td>2.930571</td>\n",
       "      <td>858</td>\n",
       "      <td>2514.43</td>\n",
       "    </tr>\n",
       "  </tbody>\n",
       "</table>\n",
       "</div>"
      ],
      "text/plain": [
       "   Number of Unique Items  Average Price  Number of Purchases  Total Revenue\n",
       "0                     134       2.930571                  858        2514.43"
      ]
     },
     "execution_count": 9,
     "metadata": {},
     "output_type": "execute_result"
    }
   ],
   "source": [
    "# Read sqlite query results into a pandas DataFrame# Read  \n",
    "summary = pd.read_sql_query(\"\"\"\n",
    "\n",
    "SELECT \n",
    "\n",
    "DISTINCT(item_id) as 'Number of Unique Items',\n",
    "AVG(price) as 'Average Price',\n",
    "COUNT(price) as 'Number of Purchases',\n",
    "SUM(price) as 'Total Revenue'\n",
    "\n",
    "FROM purchase_table\n",
    "\n",
    ";\n",
    "\n",
    "\"\"\",conn)\n",
    "\n",
    "summary.head()"
   ]
  },
  {
   "cell_type": "markdown",
   "metadata": {},
   "source": [
    "# Gender Demographics"
   ]
  },
  {
   "cell_type": "code",
   "execution_count": 43,
   "metadata": {},
   "outputs": [
    {
     "data": {
      "text/html": [
       "<div>\n",
       "<style>\n",
       "    .dataframe thead tr:only-child th {\n",
       "        text-align: right;\n",
       "    }\n",
       "\n",
       "    .dataframe thead th {\n",
       "        text-align: left;\n",
       "    }\n",
       "\n",
       "    .dataframe tbody tr th {\n",
       "        vertical-align: top;\n",
       "    }\n",
       "</style>\n",
       "<table border=\"1\" class=\"dataframe\">\n",
       "  <thead>\n",
       "    <tr style=\"text-align: right;\">\n",
       "      <th></th>\n",
       "      <th>Gender</th>\n",
       "      <th>Percentage of Players</th>\n",
       "      <th>Total Count</th>\n",
       "    </tr>\n",
       "  </thead>\n",
       "  <tbody>\n",
       "    <tr>\n",
       "      <th>0</th>\n",
       "      <td>Male</td>\n",
       "      <td>81.235431</td>\n",
       "      <td>697</td>\n",
       "    </tr>\n",
       "    <tr>\n",
       "      <th>1</th>\n",
       "      <td>Female</td>\n",
       "      <td>17.365967</td>\n",
       "      <td>149</td>\n",
       "    </tr>\n",
       "    <tr>\n",
       "      <th>2</th>\n",
       "      <td>Other / Non-Disclosed</td>\n",
       "      <td>1.398601</td>\n",
       "      <td>12</td>\n",
       "    </tr>\n",
       "  </tbody>\n",
       "</table>\n",
       "</div>"
      ],
      "text/plain": [
       "                  Gender  Percentage of Players  Total Count\n",
       "0                   Male              81.235431          697\n",
       "1                 Female              17.365967          149\n",
       "2  Other / Non-Disclosed               1.398601           12"
      ]
     },
     "execution_count": 43,
     "metadata": {},
     "output_type": "execute_result"
    }
   ],
   "source": [
    "# Read sqlite query results into a pandas DataFrame# Read  \n",
    "gender_demographics = pd.read_sql_query(\"\"\"\n",
    "\n",
    "SELECT \n",
    "\n",
    "gender as 'Gender',\n",
    "\n",
    "(COUNT(gender)*100)/(SELECT COUNT(age) FROM purchase_table) || '%' as 'Percentage of Players',\n",
    "\n",
    "COUNT(gender) as 'Total Count'\n",
    "\n",
    "FROM purchase_table\n",
    "\n",
    "WHERE gender = 'Male'\n",
    "\n",
    "UNION\n",
    "\n",
    "SELECT \n",
    "\n",
    "gender as 'Gender',\n",
    "\n",
    "(COUNT(gender)*100)/(SELECT COUNT(age) FROM purchase_table) || '%' as 'Percentage of Players',\n",
    "\n",
    "COUNT(gender) as 'Total Count'\n",
    "\n",
    "FROM purchase_table\n",
    "\n",
    "WHERE gender = 'Female'\n",
    "\n",
    "UNION\n",
    "\n",
    "SELECT \n",
    "\n",
    "gender as 'Gender',\n",
    "\n",
    "(COUNT(gender)*100)/(SELECT COUNT(age) FROM purchase_table) || '%' as 'Percentage of Players',\n",
    "\n",
    "COUNT(gender) as 'Total Count'\n",
    "\n",
    "FROM purchase_table\n",
    "\n",
    "WHERE gender NOT IN ('Male','Female')\n",
    "\n",
    "ORDER BY \"Percentage of Players\" DESC\n",
    ";\n",
    "\n",
    "\"\"\",conn)\n",
    "\n",
    "gender_demographics.head()"
   ]
  },
  {
   "cell_type": "markdown",
   "metadata": {},
   "source": [
    "# Purchasing Analysis (Gender)"
   ]
  },
  {
   "cell_type": "code",
   "execution_count": null,
   "metadata": {
    "collapsed": true
   },
   "outputs": [],
   "source": [
    "# Read sqlite query results into a pandas DataFrame# Read  \n",
    "gender_data = pd.read_sql_query(\"\"\"\n",
    "\n",
    "SELECT \n",
    "\n",
    "gender as 'Gender',\n",
    "\n",
    "(COUNT(gender)*100)/(SELECT COUNT(age) FROM purchase_table) || '%' as 'Percentage of Players',\n",
    "\n",
    "COUNT(gender) as 'Total Count'\n",
    "\n",
    "FROM purchase_table\n",
    "\n",
    "WHERE gender = 'Male'\n",
    "\n",
    "UNION\n",
    "\n",
    "SELECT \n",
    "\n",
    "gender as 'Gender',\n",
    "\n",
    "(COUNT(gender)*100)/(SELECT COUNT(age) FROM purchase_table) || '%' as 'Percentage of Players',\n",
    "\n",
    "COUNT(gender) as 'Total Count'\n",
    "\n",
    "FROM purchase_table\n",
    "\n",
    "WHERE gender = 'Female'\n",
    "\n",
    "UNION\n",
    "\n",
    "SELECT \n",
    "\n",
    "gender as 'Gender',\n",
    "\n",
    "(COUNT(gender)*100)/(SELECT COUNT(age) FROM purchase_table) || '%' as 'Percentage of Players',\n",
    "\n",
    "COUNT(gender) as 'Total Count'\n",
    "\n",
    "FROM purchase_table\n",
    "\n",
    "WHERE gender NOT IN ('Male','Female')\n",
    "\n",
    "ORDER BY \"Percentage of Players\" DESC\n",
    ";\n",
    "\n",
    "\"\"\",conn)\n",
    "\n",
    "gender_data.head()"
   ]
  },
  {
   "cell_type": "markdown",
   "metadata": {},
   "source": [
    "# Age Demographics"
   ]
  },
  {
   "cell_type": "code",
   "execution_count": null,
   "metadata": {
    "collapsed": true
   },
   "outputs": [],
   "source": []
  },
  {
   "cell_type": "markdown",
   "metadata": {},
   "source": [
    "# Purchasing Analysis (Age)"
   ]
  },
  {
   "cell_type": "code",
   "execution_count": null,
   "metadata": {
    "collapsed": true
   },
   "outputs": [],
   "source": []
  },
  {
   "cell_type": "markdown",
   "metadata": {},
   "source": [
    "# Top Spenders"
   ]
  },
  {
   "cell_type": "code",
   "execution_count": null,
   "metadata": {
    "collapsed": true
   },
   "outputs": [],
   "source": []
  },
  {
   "cell_type": "markdown",
   "metadata": {},
   "source": [
    "# Most Popular Items"
   ]
  },
  {
   "cell_type": "code",
   "execution_count": null,
   "metadata": {
    "collapsed": true
   },
   "outputs": [],
   "source": []
  },
  {
   "cell_type": "markdown",
   "metadata": {},
   "source": [
    "# Most Profitable Items"
   ]
  },
  {
   "cell_type": "code",
   "execution_count": null,
   "metadata": {
    "collapsed": true
   },
   "outputs": [],
   "source": []
  }
 ],
 "metadata": {
  "kernelspec": {
   "display_name": "Python 3",
   "language": "python",
   "name": "python3"
  },
  "language_info": {
   "codemirror_mode": {
    "name": "ipython",
    "version": 3
   },
   "file_extension": ".py",
   "mimetype": "text/x-python",
   "name": "python",
   "nbconvert_exporter": "python",
   "pygments_lexer": "ipython3",
   "version": "3.6.3"
  }
 },
 "nbformat": 4,
 "nbformat_minor": 2
}
